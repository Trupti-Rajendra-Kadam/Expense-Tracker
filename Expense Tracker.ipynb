{
 "cells": [
  {
   "cell_type": "markdown",
   "id": "99fc3f8e",
   "metadata": {},
   "source": [
    "# Expense Tracker"
   ]
  },
  {
   "cell_type": "code",
   "execution_count": null,
   "id": "6965979b",
   "metadata": {},
   "outputs": [
    {
     "name": "stdout",
     "output_type": "stream",
     "text": [
      "\n",
      "Options:\n",
      "1. Add Expense\n",
      "2. View Expenses\n",
      "3. Exit\n"
     ]
    }
   ],
   "source": [
    "class ExpenseTracker:\n",
    "    def __init__(self):\n",
    "        self.expenses = {}\n",
    "\n",
    "    def add_expense(self, category, amount):\n",
    "        if category in self.expenses:\n",
    "            self.expenses[category] += amount\n",
    "        else:\n",
    "            self.expenses[category] = amount\n",
    "\n",
    "    def view_expenses(self):\n",
    "        print(\"\\nExpense Tracker:\")\n",
    "        for category, amount in self.expenses.items():\n",
    "            print(f\"{category}: ${amount}\")\n",
    "\n",
    "def main():\n",
    "    tracker = ExpenseTracker()\n",
    "\n",
    "    while True:\n",
    "        print(\"\\nOptions:\")\n",
    "        print(\"1. Add Expense\")\n",
    "        print(\"2. View Expenses\")\n",
    "        print(\"3. Exit\")\n",
    "\n",
    "        choice = input(\"Enter your choice (1/2/3): \")\n",
    "\n",
    "        if choice == '1':\n",
    "            category = input(\"Enter expense category: \")\n",
    "            amount = float(input(\"Enter expense amount: \"))\n",
    "            tracker.add_expense(category, amount)\n",
    "            print(\"Expense added successfully!\")\n",
    "\n",
    "        elif choice == '2':\n",
    "            tracker.view_expenses()\n",
    "\n",
    "        elif choice == '3':\n",
    "            print(\"Exiting Expense Tracker. Goodbye!\")\n",
    "            break\n",
    "\n",
    "        else:\n",
    "            print(\"Invalid choice. Please enter 1, 2, or 3.\")\n",
    "\n",
    "if __name__ == \"__main__\":\n",
    "    main()\n"
   ]
  },
  {
   "cell_type": "code",
   "execution_count": null,
   "id": "3161d010",
   "metadata": {},
   "outputs": [],
   "source": []
  }
 ],
 "metadata": {
  "kernelspec": {
   "display_name": "Python 3 (ipykernel)",
   "language": "python",
   "name": "python3"
  },
  "language_info": {
   "codemirror_mode": {
    "name": "ipython",
    "version": 3
   },
   "file_extension": ".py",
   "mimetype": "text/x-python",
   "name": "python",
   "nbconvert_exporter": "python",
   "pygments_lexer": "ipython3",
   "version": "3.9.7"
  }
 },
 "nbformat": 4,
 "nbformat_minor": 5
}
